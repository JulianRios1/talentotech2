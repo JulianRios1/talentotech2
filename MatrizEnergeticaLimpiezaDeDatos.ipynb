{
  "nbformat": 4,
  "nbformat_minor": 0,
  "metadata": {
    "colab": {
      "provenance": [],
      "include_colab_link": true
    },
    "kernelspec": {
      "name": "python3",
      "display_name": "Python 3"
    },
    "language_info": {
      "name": "python"
    }
  },
  "cells": [
    {
      "cell_type": "markdown",
      "metadata": {
        "id": "view-in-github",
        "colab_type": "text"
      },
      "source": [
        "<a href=\"https://colab.research.google.com/github/JulianRios1/talentotech2/blob/master/MatrizEnergeticaLimpiezaDeDatos.ipynb\" target=\"_parent\"><img src=\"https://colab.research.google.com/assets/colab-badge.svg\" alt=\"Open In Colab\"/></a>"
      ]
    },
    {
      "cell_type": "markdown",
      "source": [
        "# Agosto 20 de 2025\n",
        "## Limpieza de datos en un proyecto de Machine Learning"
      ],
      "metadata": {
        "id": "FRkd5tMOPAry"
      }
    },
    {
      "cell_type": "markdown",
      "source": [
        "Encabezado donde se importan las librerías que se van a usar en el proyecto"
      ],
      "metadata": {
        "id": "GsVdJLrZPKKc"
      }
    },
    {
      "cell_type": "code",
      "execution_count": null,
      "metadata": {
        "id": "OgjifERJO9F8"
      },
      "outputs": [],
      "source": [
        "import pandas as pd\n",
        "import numpy as np\n",
        "import matplotlib.pyplot as plt\n",
        "import seaborn as sns"
      ]
    },
    {
      "cell_type": "markdown",
      "source": [
        "Se importa el dataset en formato .csv desde la carpeta de Google Drive y se convierte a Dataframe"
      ],
      "metadata": {
        "id": "3u5QOuMePdHM"
      }
    },
    {
      "cell_type": "code",
      "source": [
        "df_datos = pd.read_csv(\"/content/drive/MyDrive/Colab Notebooks/DataBase/Meta_FNCER__Incorporar_en_la_matriz_energética_nueva_capacidad_instalada_a_partir_de_Fuentes_No_Convencionales_de_Energía_Renovable_-_FNCER_20250821.csv\")\n",
        "df_datos.head()# .head() muestra las primeras 5 filas del dataframe"
      ],
      "metadata": {
        "colab": {
          "base_uri": "https://localhost:8080/",
          "height": 310
        },
        "id": "auZCJXMgPb67",
        "outputId": "0c867f23-10ff-436d-f8c4-b825edcd18d0"
      },
      "execution_count": null,
      "outputs": [
        {
          "output_type": "execute_result",
          "data": {
            "text/plain": [
              "                           Proyecto    Tipo  Capacidad     Departamento  \\\n",
              "0                         JEPIRACHI  Eólico      18.42       LA GUAJIRA   \n",
              "1          AUTOG CELSIA SOLAR YUMBO   Solar       9.80  VALLE DEL CAUCA   \n",
              "2              CELSIA SOLAR BOLIVAR   Solar       8.06          BOLÍVAR   \n",
              "3  EL PASO SOLAR (ENEL GREEN POWER)   Solar      67.00            CESAR   \n",
              "4                SOLAR CASTILLA ECP   Solar      20.00             META   \n",
              "\n",
              "           Municipio  Código Departamento  Código Municipio  \\\n",
              "0             URIBIA                   44             44847   \n",
              "1              YUMBO                   76             76892   \n",
              "2         SANTA ROSA                   13             13683   \n",
              "3            EL PASO                   20             20250   \n",
              "4  CASTILLA LA NUEVA                   50             50150   \n",
              "\n",
              "        Fecha estimada FPO Energía [kWh/día] Usuarios  \\\n",
              "0  2004-04-27T00:00:00.000           176,832   30,665   \n",
              "1  2017-03-09T00:00:00.000            47,040    8,157   \n",
              "2  2019-02-01T00:00:00.000            38,688    6,709   \n",
              "3  2019-04-05T00:00:00.000           321,600   55,769   \n",
              "4  2019-10-10T00:00:00.000            96,000   16,647   \n",
              "\n",
              "  Inversión estimada [COP] Empleos estimados Emisiones CO2 [Ton/año]  \n",
              "0           79,206,000,000                51                  51,635  \n",
              "1           42,140,000,000                68                  13,736  \n",
              "2           34,658,000,000                56                  11,297  \n",
              "3          288,100,000,000               466                  93,907  \n",
              "4           86,000,000,000               139                  28,032  "
            ],
            "text/html": [
              "\n",
              "  <div id=\"df-f3c3ef3b-acf0-4a6a-8921-5e75113cd88b\" class=\"colab-df-container\">\n",
              "    <div>\n",
              "<style scoped>\n",
              "    .dataframe tbody tr th:only-of-type {\n",
              "        vertical-align: middle;\n",
              "    }\n",
              "\n",
              "    .dataframe tbody tr th {\n",
              "        vertical-align: top;\n",
              "    }\n",
              "\n",
              "    .dataframe thead th {\n",
              "        text-align: right;\n",
              "    }\n",
              "</style>\n",
              "<table border=\"1\" class=\"dataframe\">\n",
              "  <thead>\n",
              "    <tr style=\"text-align: right;\">\n",
              "      <th></th>\n",
              "      <th>Proyecto</th>\n",
              "      <th>Tipo</th>\n",
              "      <th>Capacidad</th>\n",
              "      <th>Departamento</th>\n",
              "      <th>Municipio</th>\n",
              "      <th>Código Departamento</th>\n",
              "      <th>Código Municipio</th>\n",
              "      <th>Fecha estimada FPO</th>\n",
              "      <th>Energía [kWh/día]</th>\n",
              "      <th>Usuarios</th>\n",
              "      <th>Inversión estimada [COP]</th>\n",
              "      <th>Empleos estimados</th>\n",
              "      <th>Emisiones CO2 [Ton/año]</th>\n",
              "    </tr>\n",
              "  </thead>\n",
              "  <tbody>\n",
              "    <tr>\n",
              "      <th>0</th>\n",
              "      <td>JEPIRACHI</td>\n",
              "      <td>Eólico</td>\n",
              "      <td>18.42</td>\n",
              "      <td>LA GUAJIRA</td>\n",
              "      <td>URIBIA</td>\n",
              "      <td>44</td>\n",
              "      <td>44847</td>\n",
              "      <td>2004-04-27T00:00:00.000</td>\n",
              "      <td>176,832</td>\n",
              "      <td>30,665</td>\n",
              "      <td>79,206,000,000</td>\n",
              "      <td>51</td>\n",
              "      <td>51,635</td>\n",
              "    </tr>\n",
              "    <tr>\n",
              "      <th>1</th>\n",
              "      <td>AUTOG CELSIA SOLAR YUMBO</td>\n",
              "      <td>Solar</td>\n",
              "      <td>9.80</td>\n",
              "      <td>VALLE DEL CAUCA</td>\n",
              "      <td>YUMBO</td>\n",
              "      <td>76</td>\n",
              "      <td>76892</td>\n",
              "      <td>2017-03-09T00:00:00.000</td>\n",
              "      <td>47,040</td>\n",
              "      <td>8,157</td>\n",
              "      <td>42,140,000,000</td>\n",
              "      <td>68</td>\n",
              "      <td>13,736</td>\n",
              "    </tr>\n",
              "    <tr>\n",
              "      <th>2</th>\n",
              "      <td>CELSIA SOLAR BOLIVAR</td>\n",
              "      <td>Solar</td>\n",
              "      <td>8.06</td>\n",
              "      <td>BOLÍVAR</td>\n",
              "      <td>SANTA ROSA</td>\n",
              "      <td>13</td>\n",
              "      <td>13683</td>\n",
              "      <td>2019-02-01T00:00:00.000</td>\n",
              "      <td>38,688</td>\n",
              "      <td>6,709</td>\n",
              "      <td>34,658,000,000</td>\n",
              "      <td>56</td>\n",
              "      <td>11,297</td>\n",
              "    </tr>\n",
              "    <tr>\n",
              "      <th>3</th>\n",
              "      <td>EL PASO SOLAR (ENEL GREEN POWER)</td>\n",
              "      <td>Solar</td>\n",
              "      <td>67.00</td>\n",
              "      <td>CESAR</td>\n",
              "      <td>EL PASO</td>\n",
              "      <td>20</td>\n",
              "      <td>20250</td>\n",
              "      <td>2019-04-05T00:00:00.000</td>\n",
              "      <td>321,600</td>\n",
              "      <td>55,769</td>\n",
              "      <td>288,100,000,000</td>\n",
              "      <td>466</td>\n",
              "      <td>93,907</td>\n",
              "    </tr>\n",
              "    <tr>\n",
              "      <th>4</th>\n",
              "      <td>SOLAR CASTILLA ECP</td>\n",
              "      <td>Solar</td>\n",
              "      <td>20.00</td>\n",
              "      <td>META</td>\n",
              "      <td>CASTILLA LA NUEVA</td>\n",
              "      <td>50</td>\n",
              "      <td>50150</td>\n",
              "      <td>2019-10-10T00:00:00.000</td>\n",
              "      <td>96,000</td>\n",
              "      <td>16,647</td>\n",
              "      <td>86,000,000,000</td>\n",
              "      <td>139</td>\n",
              "      <td>28,032</td>\n",
              "    </tr>\n",
              "  </tbody>\n",
              "</table>\n",
              "</div>\n",
              "    <div class=\"colab-df-buttons\">\n",
              "\n",
              "  <div class=\"colab-df-container\">\n",
              "    <button class=\"colab-df-convert\" onclick=\"convertToInteractive('df-f3c3ef3b-acf0-4a6a-8921-5e75113cd88b')\"\n",
              "            title=\"Convert this dataframe to an interactive table.\"\n",
              "            style=\"display:none;\">\n",
              "\n",
              "  <svg xmlns=\"http://www.w3.org/2000/svg\" height=\"24px\" viewBox=\"0 -960 960 960\">\n",
              "    <path d=\"M120-120v-720h720v720H120Zm60-500h600v-160H180v160Zm220 220h160v-160H400v160Zm0 220h160v-160H400v160ZM180-400h160v-160H180v160Zm440 0h160v-160H620v160ZM180-180h160v-160H180v160Zm440 0h160v-160H620v160Z\"/>\n",
              "  </svg>\n",
              "    </button>\n",
              "\n",
              "  <style>\n",
              "    .colab-df-container {\n",
              "      display:flex;\n",
              "      gap: 12px;\n",
              "    }\n",
              "\n",
              "    .colab-df-convert {\n",
              "      background-color: #E8F0FE;\n",
              "      border: none;\n",
              "      border-radius: 50%;\n",
              "      cursor: pointer;\n",
              "      display: none;\n",
              "      fill: #1967D2;\n",
              "      height: 32px;\n",
              "      padding: 0 0 0 0;\n",
              "      width: 32px;\n",
              "    }\n",
              "\n",
              "    .colab-df-convert:hover {\n",
              "      background-color: #E2EBFA;\n",
              "      box-shadow: 0px 1px 2px rgba(60, 64, 67, 0.3), 0px 1px 3px 1px rgba(60, 64, 67, 0.15);\n",
              "      fill: #174EA6;\n",
              "    }\n",
              "\n",
              "    .colab-df-buttons div {\n",
              "      margin-bottom: 4px;\n",
              "    }\n",
              "\n",
              "    [theme=dark] .colab-df-convert {\n",
              "      background-color: #3B4455;\n",
              "      fill: #D2E3FC;\n",
              "    }\n",
              "\n",
              "    [theme=dark] .colab-df-convert:hover {\n",
              "      background-color: #434B5C;\n",
              "      box-shadow: 0px 1px 3px 1px rgba(0, 0, 0, 0.15);\n",
              "      filter: drop-shadow(0px 1px 2px rgba(0, 0, 0, 0.3));\n",
              "      fill: #FFFFFF;\n",
              "    }\n",
              "  </style>\n",
              "\n",
              "    <script>\n",
              "      const buttonEl =\n",
              "        document.querySelector('#df-f3c3ef3b-acf0-4a6a-8921-5e75113cd88b button.colab-df-convert');\n",
              "      buttonEl.style.display =\n",
              "        google.colab.kernel.accessAllowed ? 'block' : 'none';\n",
              "\n",
              "      async function convertToInteractive(key) {\n",
              "        const element = document.querySelector('#df-f3c3ef3b-acf0-4a6a-8921-5e75113cd88b');\n",
              "        const dataTable =\n",
              "          await google.colab.kernel.invokeFunction('convertToInteractive',\n",
              "                                                    [key], {});\n",
              "        if (!dataTable) return;\n",
              "\n",
              "        const docLinkHtml = 'Like what you see? Visit the ' +\n",
              "          '<a target=\"_blank\" href=https://colab.research.google.com/notebooks/data_table.ipynb>data table notebook</a>'\n",
              "          + ' to learn more about interactive tables.';\n",
              "        element.innerHTML = '';\n",
              "        dataTable['output_type'] = 'display_data';\n",
              "        await google.colab.output.renderOutput(dataTable, element);\n",
              "        const docLink = document.createElement('div');\n",
              "        docLink.innerHTML = docLinkHtml;\n",
              "        element.appendChild(docLink);\n",
              "      }\n",
              "    </script>\n",
              "  </div>\n",
              "\n",
              "\n",
              "    <div id=\"df-eaa26e13-32d1-4c2d-aa31-253330853a59\">\n",
              "      <button class=\"colab-df-quickchart\" onclick=\"quickchart('df-eaa26e13-32d1-4c2d-aa31-253330853a59')\"\n",
              "                title=\"Suggest charts\"\n",
              "                style=\"display:none;\">\n",
              "\n",
              "<svg xmlns=\"http://www.w3.org/2000/svg\" height=\"24px\"viewBox=\"0 0 24 24\"\n",
              "     width=\"24px\">\n",
              "    <g>\n",
              "        <path d=\"M19 3H5c-1.1 0-2 .9-2 2v14c0 1.1.9 2 2 2h14c1.1 0 2-.9 2-2V5c0-1.1-.9-2-2-2zM9 17H7v-7h2v7zm4 0h-2V7h2v10zm4 0h-2v-4h2v4z\"/>\n",
              "    </g>\n",
              "</svg>\n",
              "      </button>\n",
              "\n",
              "<style>\n",
              "  .colab-df-quickchart {\n",
              "      --bg-color: #E8F0FE;\n",
              "      --fill-color: #1967D2;\n",
              "      --hover-bg-color: #E2EBFA;\n",
              "      --hover-fill-color: #174EA6;\n",
              "      --disabled-fill-color: #AAA;\n",
              "      --disabled-bg-color: #DDD;\n",
              "  }\n",
              "\n",
              "  [theme=dark] .colab-df-quickchart {\n",
              "      --bg-color: #3B4455;\n",
              "      --fill-color: #D2E3FC;\n",
              "      --hover-bg-color: #434B5C;\n",
              "      --hover-fill-color: #FFFFFF;\n",
              "      --disabled-bg-color: #3B4455;\n",
              "      --disabled-fill-color: #666;\n",
              "  }\n",
              "\n",
              "  .colab-df-quickchart {\n",
              "    background-color: var(--bg-color);\n",
              "    border: none;\n",
              "    border-radius: 50%;\n",
              "    cursor: pointer;\n",
              "    display: none;\n",
              "    fill: var(--fill-color);\n",
              "    height: 32px;\n",
              "    padding: 0;\n",
              "    width: 32px;\n",
              "  }\n",
              "\n",
              "  .colab-df-quickchart:hover {\n",
              "    background-color: var(--hover-bg-color);\n",
              "    box-shadow: 0 1px 2px rgba(60, 64, 67, 0.3), 0 1px 3px 1px rgba(60, 64, 67, 0.15);\n",
              "    fill: var(--button-hover-fill-color);\n",
              "  }\n",
              "\n",
              "  .colab-df-quickchart-complete:disabled,\n",
              "  .colab-df-quickchart-complete:disabled:hover {\n",
              "    background-color: var(--disabled-bg-color);\n",
              "    fill: var(--disabled-fill-color);\n",
              "    box-shadow: none;\n",
              "  }\n",
              "\n",
              "  .colab-df-spinner {\n",
              "    border: 2px solid var(--fill-color);\n",
              "    border-color: transparent;\n",
              "    border-bottom-color: var(--fill-color);\n",
              "    animation:\n",
              "      spin 1s steps(1) infinite;\n",
              "  }\n",
              "\n",
              "  @keyframes spin {\n",
              "    0% {\n",
              "      border-color: transparent;\n",
              "      border-bottom-color: var(--fill-color);\n",
              "      border-left-color: var(--fill-color);\n",
              "    }\n",
              "    20% {\n",
              "      border-color: transparent;\n",
              "      border-left-color: var(--fill-color);\n",
              "      border-top-color: var(--fill-color);\n",
              "    }\n",
              "    30% {\n",
              "      border-color: transparent;\n",
              "      border-left-color: var(--fill-color);\n",
              "      border-top-color: var(--fill-color);\n",
              "      border-right-color: var(--fill-color);\n",
              "    }\n",
              "    40% {\n",
              "      border-color: transparent;\n",
              "      border-right-color: var(--fill-color);\n",
              "      border-top-color: var(--fill-color);\n",
              "    }\n",
              "    60% {\n",
              "      border-color: transparent;\n",
              "      border-right-color: var(--fill-color);\n",
              "    }\n",
              "    80% {\n",
              "      border-color: transparent;\n",
              "      border-right-color: var(--fill-color);\n",
              "      border-bottom-color: var(--fill-color);\n",
              "    }\n",
              "    90% {\n",
              "      border-color: transparent;\n",
              "      border-bottom-color: var(--fill-color);\n",
              "    }\n",
              "  }\n",
              "</style>\n",
              "\n",
              "      <script>\n",
              "        async function quickchart(key) {\n",
              "          const quickchartButtonEl =\n",
              "            document.querySelector('#' + key + ' button');\n",
              "          quickchartButtonEl.disabled = true;  // To prevent multiple clicks.\n",
              "          quickchartButtonEl.classList.add('colab-df-spinner');\n",
              "          try {\n",
              "            const charts = await google.colab.kernel.invokeFunction(\n",
              "                'suggestCharts', [key], {});\n",
              "          } catch (error) {\n",
              "            console.error('Error during call to suggestCharts:', error);\n",
              "          }\n",
              "          quickchartButtonEl.classList.remove('colab-df-spinner');\n",
              "          quickchartButtonEl.classList.add('colab-df-quickchart-complete');\n",
              "        }\n",
              "        (() => {\n",
              "          let quickchartButtonEl =\n",
              "            document.querySelector('#df-eaa26e13-32d1-4c2d-aa31-253330853a59 button');\n",
              "          quickchartButtonEl.style.display =\n",
              "            google.colab.kernel.accessAllowed ? 'block' : 'none';\n",
              "        })();\n",
              "      </script>\n",
              "    </div>\n",
              "\n",
              "    </div>\n",
              "  </div>\n"
            ],
            "application/vnd.google.colaboratory.intrinsic+json": {
              "type": "dataframe",
              "variable_name": "df_datos",
              "summary": "{\n  \"name\": \"df_datos\",\n  \"rows\": 158,\n  \"fields\": [\n    {\n      \"column\": \"Proyecto\",\n      \"properties\": {\n        \"dtype\": \"string\",\n        \"num_unique_values\": 156,\n        \"samples\": [\n          \"PARQUE FOTOVOLTAICO CRLI 1\",\n          \"CSF SAN FELIPE (TRINA SOLAR)\",\n          \"WESP01\"\n        ],\n        \"semantic_type\": \"\",\n        \"description\": \"\"\n      }\n    },\n    {\n      \"column\": \"Tipo\",\n      \"properties\": {\n        \"dtype\": \"category\",\n        \"num_unique_values\": 2,\n        \"samples\": [\n          \"Solar\",\n          \"E\\u00f3lico\"\n        ],\n        \"semantic_type\": \"\",\n        \"description\": \"\"\n      }\n    },\n    {\n      \"column\": \"Capacidad\",\n      \"properties\": {\n        \"dtype\": \"number\",\n        \"std\": 78.06867101118858,\n        \"min\": 0.01,\n        \"max\": 700.0,\n        \"num_unique_values\": 104,\n        \"samples\": [\n          4.54,\n          13.93\n        ],\n        \"semantic_type\": \"\",\n        \"description\": \"\"\n      }\n    },\n    {\n      \"column\": \"Departamento\",\n      \"properties\": {\n        \"dtype\": \"category\",\n        \"num_unique_values\": 26,\n        \"samples\": [\n          \"ANTIOQUIA\",\n          \"ARAUCA\"\n        ],\n        \"semantic_type\": \"\",\n        \"description\": \"\"\n      }\n    },\n    {\n      \"column\": \"Municipio\",\n      \"properties\": {\n        \"dtype\": \"string\",\n        \"num_unique_values\": 79,\n        \"samples\": [\n          \"SAN BENITO ABAD\",\n          \"URIBIA\"\n        ],\n        \"semantic_type\": \"\",\n        \"description\": \"\"\n      }\n    },\n    {\n      \"column\": \"C\\u00f3digo Departamento\",\n      \"properties\": {\n        \"dtype\": \"number\",\n        \"std\": 26,\n        \"min\": 5,\n        \"max\": 94,\n        \"num_unique_values\": 26,\n        \"samples\": [\n          5,\n          81\n        ],\n        \"semantic_type\": \"\",\n        \"description\": \"\"\n      }\n    },\n    {\n      \"column\": \"C\\u00f3digo Municipio\",\n      \"properties\": {\n        \"dtype\": \"number\",\n        \"std\": 27283,\n        \"min\": 23,\n        \"max\": 94001,\n        \"num_unique_values\": 81,\n        \"samples\": [\n          70678,\n          44847\n        ],\n        \"semantic_type\": \"\",\n        \"description\": \"\"\n      }\n    },\n    {\n      \"column\": \"Fecha estimada FPO\",\n      \"properties\": {\n        \"dtype\": \"category\",\n        \"num_unique_values\": 70,\n        \"samples\": [\n          \"2021-03-31T00:00:00.000\",\n          \"2004-04-27T00:00:00.000\"\n        ],\n        \"semantic_type\": \"\",\n        \"description\": \"\"\n      }\n    },\n    {\n      \"column\": \"Energ\\u00eda [kWh/d\\u00eda]\",\n      \"properties\": {\n        \"dtype\": \"string\",\n        \"num_unique_values\": 106,\n        \"samples\": [\n          \"168,000\",\n          \"1,200\"\n        ],\n        \"semantic_type\": \"\",\n        \"description\": \"\"\n      }\n    },\n    {\n      \"column\": \"Usuarios\",\n      \"properties\": {\n        \"dtype\": \"string\",\n        \"num_unique_values\": 106,\n        \"samples\": [\n          \"29,133\",\n          \"208\"\n        ],\n        \"semantic_type\": \"\",\n        \"description\": \"\"\n      }\n    },\n    {\n      \"column\": \"Inversi\\u00f3n estimada [COP]\",\n      \"properties\": {\n        \"dtype\": \"string\",\n        \"num_unique_values\": 112,\n        \"samples\": [\n          \"52,030,000,000\",\n          \"795,000,000,000\"\n        ],\n        \"semantic_type\": \"\",\n        \"description\": \"\"\n      }\n    },\n    {\n      \"column\": \"Empleos estimados\",\n      \"properties\": {\n        \"dtype\": \"category\",\n        \"num_unique_values\": 75,\n        \"samples\": [\n          \"139\",\n          \"4,872\"\n        ],\n        \"semantic_type\": \"\",\n        \"description\": \"\"\n      }\n    },\n    {\n      \"column\": \"Emisiones CO2 [Ton/a\\u00f1o]\",\n      \"properties\": {\n        \"dtype\": \"string\",\n        \"num_unique_values\": 106,\n        \"samples\": [\n          \"49,056\",\n          \"350\"\n        ],\n        \"semantic_type\": \"\",\n        \"description\": \"\"\n      }\n    }\n  ]\n}"
            }
          },
          "metadata": {},
          "execution_count": 90
        }
      ]
    },
    {
      "cell_type": "code",
      "source": [
        "# Tamaño del dataset\n",
        "df_datos.shape"
      ],
      "metadata": {
        "colab": {
          "base_uri": "https://localhost:8080/"
        },
        "id": "A1iMgHohQmkS",
        "outputId": "f1c487b9-3f37-4907-fd5f-e3e1c6ec9e12"
      },
      "execution_count": null,
      "outputs": [
        {
          "output_type": "execute_result",
          "data": {
            "text/plain": [
              "(158, 13)"
            ]
          },
          "metadata": {},
          "execution_count": 91
        }
      ]
    },
    {
      "cell_type": "code",
      "source": [
        "# Información general del Dataset\n",
        "df_datos.info()"
      ],
      "metadata": {
        "colab": {
          "base_uri": "https://localhost:8080/"
        },
        "id": "1swuqx1dQ7et",
        "outputId": "6443305e-d0be-429f-c498-d3bd1d2a803a"
      },
      "execution_count": null,
      "outputs": [
        {
          "output_type": "stream",
          "name": "stdout",
          "text": [
            "<class 'pandas.core.frame.DataFrame'>\n",
            "RangeIndex: 158 entries, 0 to 157\n",
            "Data columns (total 13 columns):\n",
            " #   Column                    Non-Null Count  Dtype  \n",
            "---  ------                    --------------  -----  \n",
            " 0   Proyecto                  158 non-null    object \n",
            " 1   Tipo                      158 non-null    object \n",
            " 2   Capacidad                 158 non-null    float64\n",
            " 3   Departamento              158 non-null    object \n",
            " 4   Municipio                 158 non-null    object \n",
            " 5   Código Departamento       158 non-null    int64  \n",
            " 6   Código Municipio          158 non-null    int64  \n",
            " 7   Fecha estimada FPO        158 non-null    object \n",
            " 8   Energía [kWh/día]         158 non-null    object \n",
            " 9   Usuarios                  158 non-null    object \n",
            " 10  Inversión estimada [COP]  158 non-null    object \n",
            " 11  Empleos estimados         158 non-null    object \n",
            " 12  Emisiones CO2 [Ton/año]   158 non-null    object \n",
            "dtypes: float64(1), int64(2), object(10)\n",
            "memory usage: 16.2+ KB\n"
          ]
        }
      ]
    },
    {
      "cell_type": "code",
      "source": [
        "#necesito cambiar los datos de object a float\n",
        "# Descripción del dataset a partir de estadísticos básicos\n",
        "columns_float = ['Capacidad','Energía [kWh/día]','Usuarios','Empleos estimados','Emisiones CO2 [Ton/año]']\n",
        "\n",
        "for column in columns_float:\n",
        "    df_datos[column] = pd.to_numeric(df_datos[column], errors='coerce')\n",
        "    df_datos[column] = df_datos[column].astype(float)\n",
        "    df_datos[column] = df_datos[column].fillna(0)\n",
        "\n",
        "\n",
        "\n",
        "df_datos.describe()"
      ],
      "metadata": {
        "colab": {
          "base_uri": "https://localhost:8080/",
          "height": 300
        },
        "id": "juSRdlxRREJr",
        "outputId": "9d2822a2-39f1-4a11-8e6e-996c1141b7a3"
      },
      "execution_count": null,
      "outputs": [
        {
          "output_type": "execute_result",
          "data": {
            "text/plain": [
              "        Capacidad  Código Departamento  Código Municipio  Energía [kWh/día]  \\\n",
              "count  158.000000           158.000000        158.000000         158.000000   \n",
              "mean    37.971646            42.829114      41551.797468          39.322785   \n",
              "std     78.068671            26.605922      27283.549553         151.361055   \n",
              "min      0.010000             5.000000         23.000000           0.000000   \n",
              "25%      2.275000            17.500000      13675.500000           0.000000   \n",
              "50%      9.900000            44.000000      44847.000000           0.000000   \n",
              "75%     20.750000            70.000000      68514.750000           0.000000   \n",
              "max    700.000000            94.000000      94001.000000         960.000000   \n",
              "\n",
              "         Usuarios  Empleos estimados  Emisiones CO2 [Ton/año]  \n",
              "count  158.000000         158.000000               158.000000  \n",
              "mean    44.753165         133.063291                40.373418  \n",
              "std    149.210222         199.061290               134.823049  \n",
              "min      0.000000           0.000000                 0.000000  \n",
              "25%      0.000000          10.000000                 0.000000  \n",
              "50%      0.000000          68.500000                 0.000000  \n",
              "75%      0.000000         139.000000                 0.000000  \n",
              "max    941.000000         835.000000               855.000000  "
            ],
            "text/html": [
              "\n",
              "  <div id=\"df-29d5b8f7-304e-4851-8424-0870b5ce040c\" class=\"colab-df-container\">\n",
              "    <div>\n",
              "<style scoped>\n",
              "    .dataframe tbody tr th:only-of-type {\n",
              "        vertical-align: middle;\n",
              "    }\n",
              "\n",
              "    .dataframe tbody tr th {\n",
              "        vertical-align: top;\n",
              "    }\n",
              "\n",
              "    .dataframe thead th {\n",
              "        text-align: right;\n",
              "    }\n",
              "</style>\n",
              "<table border=\"1\" class=\"dataframe\">\n",
              "  <thead>\n",
              "    <tr style=\"text-align: right;\">\n",
              "      <th></th>\n",
              "      <th>Capacidad</th>\n",
              "      <th>Código Departamento</th>\n",
              "      <th>Código Municipio</th>\n",
              "      <th>Energía [kWh/día]</th>\n",
              "      <th>Usuarios</th>\n",
              "      <th>Empleos estimados</th>\n",
              "      <th>Emisiones CO2 [Ton/año]</th>\n",
              "    </tr>\n",
              "  </thead>\n",
              "  <tbody>\n",
              "    <tr>\n",
              "      <th>count</th>\n",
              "      <td>158.000000</td>\n",
              "      <td>158.000000</td>\n",
              "      <td>158.000000</td>\n",
              "      <td>158.000000</td>\n",
              "      <td>158.000000</td>\n",
              "      <td>158.000000</td>\n",
              "      <td>158.000000</td>\n",
              "    </tr>\n",
              "    <tr>\n",
              "      <th>mean</th>\n",
              "      <td>37.971646</td>\n",
              "      <td>42.829114</td>\n",
              "      <td>41551.797468</td>\n",
              "      <td>39.322785</td>\n",
              "      <td>44.753165</td>\n",
              "      <td>133.063291</td>\n",
              "      <td>40.373418</td>\n",
              "    </tr>\n",
              "    <tr>\n",
              "      <th>std</th>\n",
              "      <td>78.068671</td>\n",
              "      <td>26.605922</td>\n",
              "      <td>27283.549553</td>\n",
              "      <td>151.361055</td>\n",
              "      <td>149.210222</td>\n",
              "      <td>199.061290</td>\n",
              "      <td>134.823049</td>\n",
              "    </tr>\n",
              "    <tr>\n",
              "      <th>min</th>\n",
              "      <td>0.010000</td>\n",
              "      <td>5.000000</td>\n",
              "      <td>23.000000</td>\n",
              "      <td>0.000000</td>\n",
              "      <td>0.000000</td>\n",
              "      <td>0.000000</td>\n",
              "      <td>0.000000</td>\n",
              "    </tr>\n",
              "    <tr>\n",
              "      <th>25%</th>\n",
              "      <td>2.275000</td>\n",
              "      <td>17.500000</td>\n",
              "      <td>13675.500000</td>\n",
              "      <td>0.000000</td>\n",
              "      <td>0.000000</td>\n",
              "      <td>10.000000</td>\n",
              "      <td>0.000000</td>\n",
              "    </tr>\n",
              "    <tr>\n",
              "      <th>50%</th>\n",
              "      <td>9.900000</td>\n",
              "      <td>44.000000</td>\n",
              "      <td>44847.000000</td>\n",
              "      <td>0.000000</td>\n",
              "      <td>0.000000</td>\n",
              "      <td>68.500000</td>\n",
              "      <td>0.000000</td>\n",
              "    </tr>\n",
              "    <tr>\n",
              "      <th>75%</th>\n",
              "      <td>20.750000</td>\n",
              "      <td>70.000000</td>\n",
              "      <td>68514.750000</td>\n",
              "      <td>0.000000</td>\n",
              "      <td>0.000000</td>\n",
              "      <td>139.000000</td>\n",
              "      <td>0.000000</td>\n",
              "    </tr>\n",
              "    <tr>\n",
              "      <th>max</th>\n",
              "      <td>700.000000</td>\n",
              "      <td>94.000000</td>\n",
              "      <td>94001.000000</td>\n",
              "      <td>960.000000</td>\n",
              "      <td>941.000000</td>\n",
              "      <td>835.000000</td>\n",
              "      <td>855.000000</td>\n",
              "    </tr>\n",
              "  </tbody>\n",
              "</table>\n",
              "</div>\n",
              "    <div class=\"colab-df-buttons\">\n",
              "\n",
              "  <div class=\"colab-df-container\">\n",
              "    <button class=\"colab-df-convert\" onclick=\"convertToInteractive('df-29d5b8f7-304e-4851-8424-0870b5ce040c')\"\n",
              "            title=\"Convert this dataframe to an interactive table.\"\n",
              "            style=\"display:none;\">\n",
              "\n",
              "  <svg xmlns=\"http://www.w3.org/2000/svg\" height=\"24px\" viewBox=\"0 -960 960 960\">\n",
              "    <path d=\"M120-120v-720h720v720H120Zm60-500h600v-160H180v160Zm220 220h160v-160H400v160Zm0 220h160v-160H400v160ZM180-400h160v-160H180v160Zm440 0h160v-160H620v160ZM180-180h160v-160H180v160Zm440 0h160v-160H620v160Z\"/>\n",
              "  </svg>\n",
              "    </button>\n",
              "\n",
              "  <style>\n",
              "    .colab-df-container {\n",
              "      display:flex;\n",
              "      gap: 12px;\n",
              "    }\n",
              "\n",
              "    .colab-df-convert {\n",
              "      background-color: #E8F0FE;\n",
              "      border: none;\n",
              "      border-radius: 50%;\n",
              "      cursor: pointer;\n",
              "      display: none;\n",
              "      fill: #1967D2;\n",
              "      height: 32px;\n",
              "      padding: 0 0 0 0;\n",
              "      width: 32px;\n",
              "    }\n",
              "\n",
              "    .colab-df-convert:hover {\n",
              "      background-color: #E2EBFA;\n",
              "      box-shadow: 0px 1px 2px rgba(60, 64, 67, 0.3), 0px 1px 3px 1px rgba(60, 64, 67, 0.15);\n",
              "      fill: #174EA6;\n",
              "    }\n",
              "\n",
              "    .colab-df-buttons div {\n",
              "      margin-bottom: 4px;\n",
              "    }\n",
              "\n",
              "    [theme=dark] .colab-df-convert {\n",
              "      background-color: #3B4455;\n",
              "      fill: #D2E3FC;\n",
              "    }\n",
              "\n",
              "    [theme=dark] .colab-df-convert:hover {\n",
              "      background-color: #434B5C;\n",
              "      box-shadow: 0px 1px 3px 1px rgba(0, 0, 0, 0.15);\n",
              "      filter: drop-shadow(0px 1px 2px rgba(0, 0, 0, 0.3));\n",
              "      fill: #FFFFFF;\n",
              "    }\n",
              "  </style>\n",
              "\n",
              "    <script>\n",
              "      const buttonEl =\n",
              "        document.querySelector('#df-29d5b8f7-304e-4851-8424-0870b5ce040c button.colab-df-convert');\n",
              "      buttonEl.style.display =\n",
              "        google.colab.kernel.accessAllowed ? 'block' : 'none';\n",
              "\n",
              "      async function convertToInteractive(key) {\n",
              "        const element = document.querySelector('#df-29d5b8f7-304e-4851-8424-0870b5ce040c');\n",
              "        const dataTable =\n",
              "          await google.colab.kernel.invokeFunction('convertToInteractive',\n",
              "                                                    [key], {});\n",
              "        if (!dataTable) return;\n",
              "\n",
              "        const docLinkHtml = 'Like what you see? Visit the ' +\n",
              "          '<a target=\"_blank\" href=https://colab.research.google.com/notebooks/data_table.ipynb>data table notebook</a>'\n",
              "          + ' to learn more about interactive tables.';\n",
              "        element.innerHTML = '';\n",
              "        dataTable['output_type'] = 'display_data';\n",
              "        await google.colab.output.renderOutput(dataTable, element);\n",
              "        const docLink = document.createElement('div');\n",
              "        docLink.innerHTML = docLinkHtml;\n",
              "        element.appendChild(docLink);\n",
              "      }\n",
              "    </script>\n",
              "  </div>\n",
              "\n",
              "\n",
              "    <div id=\"df-26a39455-54e1-4edb-9360-12d97dff7e8e\">\n",
              "      <button class=\"colab-df-quickchart\" onclick=\"quickchart('df-26a39455-54e1-4edb-9360-12d97dff7e8e')\"\n",
              "                title=\"Suggest charts\"\n",
              "                style=\"display:none;\">\n",
              "\n",
              "<svg xmlns=\"http://www.w3.org/2000/svg\" height=\"24px\"viewBox=\"0 0 24 24\"\n",
              "     width=\"24px\">\n",
              "    <g>\n",
              "        <path d=\"M19 3H5c-1.1 0-2 .9-2 2v14c0 1.1.9 2 2 2h14c1.1 0 2-.9 2-2V5c0-1.1-.9-2-2-2zM9 17H7v-7h2v7zm4 0h-2V7h2v10zm4 0h-2v-4h2v4z\"/>\n",
              "    </g>\n",
              "</svg>\n",
              "      </button>\n",
              "\n",
              "<style>\n",
              "  .colab-df-quickchart {\n",
              "      --bg-color: #E8F0FE;\n",
              "      --fill-color: #1967D2;\n",
              "      --hover-bg-color: #E2EBFA;\n",
              "      --hover-fill-color: #174EA6;\n",
              "      --disabled-fill-color: #AAA;\n",
              "      --disabled-bg-color: #DDD;\n",
              "  }\n",
              "\n",
              "  [theme=dark] .colab-df-quickchart {\n",
              "      --bg-color: #3B4455;\n",
              "      --fill-color: #D2E3FC;\n",
              "      --hover-bg-color: #434B5C;\n",
              "      --hover-fill-color: #FFFFFF;\n",
              "      --disabled-bg-color: #3B4455;\n",
              "      --disabled-fill-color: #666;\n",
              "  }\n",
              "\n",
              "  .colab-df-quickchart {\n",
              "    background-color: var(--bg-color);\n",
              "    border: none;\n",
              "    border-radius: 50%;\n",
              "    cursor: pointer;\n",
              "    display: none;\n",
              "    fill: var(--fill-color);\n",
              "    height: 32px;\n",
              "    padding: 0;\n",
              "    width: 32px;\n",
              "  }\n",
              "\n",
              "  .colab-df-quickchart:hover {\n",
              "    background-color: var(--hover-bg-color);\n",
              "    box-shadow: 0 1px 2px rgba(60, 64, 67, 0.3), 0 1px 3px 1px rgba(60, 64, 67, 0.15);\n",
              "    fill: var(--button-hover-fill-color);\n",
              "  }\n",
              "\n",
              "  .colab-df-quickchart-complete:disabled,\n",
              "  .colab-df-quickchart-complete:disabled:hover {\n",
              "    background-color: var(--disabled-bg-color);\n",
              "    fill: var(--disabled-fill-color);\n",
              "    box-shadow: none;\n",
              "  }\n",
              "\n",
              "  .colab-df-spinner {\n",
              "    border: 2px solid var(--fill-color);\n",
              "    border-color: transparent;\n",
              "    border-bottom-color: var(--fill-color);\n",
              "    animation:\n",
              "      spin 1s steps(1) infinite;\n",
              "  }\n",
              "\n",
              "  @keyframes spin {\n",
              "    0% {\n",
              "      border-color: transparent;\n",
              "      border-bottom-color: var(--fill-color);\n",
              "      border-left-color: var(--fill-color);\n",
              "    }\n",
              "    20% {\n",
              "      border-color: transparent;\n",
              "      border-left-color: var(--fill-color);\n",
              "      border-top-color: var(--fill-color);\n",
              "    }\n",
              "    30% {\n",
              "      border-color: transparent;\n",
              "      border-left-color: var(--fill-color);\n",
              "      border-top-color: var(--fill-color);\n",
              "      border-right-color: var(--fill-color);\n",
              "    }\n",
              "    40% {\n",
              "      border-color: transparent;\n",
              "      border-right-color: var(--fill-color);\n",
              "      border-top-color: var(--fill-color);\n",
              "    }\n",
              "    60% {\n",
              "      border-color: transparent;\n",
              "      border-right-color: var(--fill-color);\n",
              "    }\n",
              "    80% {\n",
              "      border-color: transparent;\n",
              "      border-right-color: var(--fill-color);\n",
              "      border-bottom-color: var(--fill-color);\n",
              "    }\n",
              "    90% {\n",
              "      border-color: transparent;\n",
              "      border-bottom-color: var(--fill-color);\n",
              "    }\n",
              "  }\n",
              "</style>\n",
              "\n",
              "      <script>\n",
              "        async function quickchart(key) {\n",
              "          const quickchartButtonEl =\n",
              "            document.querySelector('#' + key + ' button');\n",
              "          quickchartButtonEl.disabled = true;  // To prevent multiple clicks.\n",
              "          quickchartButtonEl.classList.add('colab-df-spinner');\n",
              "          try {\n",
              "            const charts = await google.colab.kernel.invokeFunction(\n",
              "                'suggestCharts', [key], {});\n",
              "          } catch (error) {\n",
              "            console.error('Error during call to suggestCharts:', error);\n",
              "          }\n",
              "          quickchartButtonEl.classList.remove('colab-df-spinner');\n",
              "          quickchartButtonEl.classList.add('colab-df-quickchart-complete');\n",
              "        }\n",
              "        (() => {\n",
              "          let quickchartButtonEl =\n",
              "            document.querySelector('#df-26a39455-54e1-4edb-9360-12d97dff7e8e button');\n",
              "          quickchartButtonEl.style.display =\n",
              "            google.colab.kernel.accessAllowed ? 'block' : 'none';\n",
              "        })();\n",
              "      </script>\n",
              "    </div>\n",
              "\n",
              "    </div>\n",
              "  </div>\n"
            ],
            "application/vnd.google.colaboratory.intrinsic+json": {
              "type": "dataframe",
              "summary": "{\n  \"name\": \"df_datos\",\n  \"rows\": 8,\n  \"fields\": [\n    {\n      \"column\": \"Capacidad\",\n      \"properties\": {\n        \"dtype\": \"number\",\n        \"std\": 237.93288383201696,\n        \"min\": 0.01,\n        \"max\": 700.0,\n        \"num_unique_values\": 8,\n        \"samples\": [\n          37.97164556962024,\n          9.9,\n          158.0\n        ],\n        \"semantic_type\": \"\",\n        \"description\": \"\"\n      }\n    },\n    {\n      \"column\": \"C\\u00f3digo Departamento\",\n      \"properties\": {\n        \"dtype\": \"number\",\n        \"std\": 49.708286117719105,\n        \"min\": 5.0,\n        \"max\": 158.0,\n        \"num_unique_values\": 8,\n        \"samples\": [\n          42.82911392405063,\n          44.0,\n          158.0\n        ],\n        \"semantic_type\": \"\",\n        \"description\": \"\"\n      }\n    },\n    {\n      \"column\": \"C\\u00f3digo Municipio\",\n      \"properties\": {\n        \"dtype\": \"number\",\n        \"std\": 33130.13833617167,\n        \"min\": 23.0,\n        \"max\": 94001.0,\n        \"num_unique_values\": 8,\n        \"samples\": [\n          41551.79746835443,\n          44847.0,\n          158.0\n        ],\n        \"semantic_type\": \"\",\n        \"description\": \"\"\n      }\n    },\n    {\n      \"column\": \"Energ\\u00eda [kWh/d\\u00eda]\",\n      \"properties\": {\n        \"dtype\": \"number\",\n        \"std\": 328.83751443499307,\n        \"min\": 0.0,\n        \"max\": 960.0,\n        \"num_unique_values\": 5,\n        \"samples\": [\n          39.322784810126585,\n          960.0,\n          151.36105520141533\n        ],\n        \"semantic_type\": \"\",\n        \"description\": \"\"\n      }\n    },\n    {\n      \"column\": \"Usuarios\",\n      \"properties\": {\n        \"dtype\": \"number\",\n        \"std\": 321.98985037710565,\n        \"min\": 0.0,\n        \"max\": 941.0,\n        \"num_unique_values\": 5,\n        \"samples\": [\n          44.75316455696203,\n          941.0,\n          149.21022175623875\n        ],\n        \"semantic_type\": \"\",\n        \"description\": \"\"\n      }\n    },\n    {\n      \"column\": \"Empleos estimados\",\n      \"properties\": {\n        \"dtype\": \"number\",\n        \"std\": 268.90576199411896,\n        \"min\": 0.0,\n        \"max\": 835.0,\n        \"num_unique_values\": 8,\n        \"samples\": [\n          133.0632911392405,\n          68.5,\n          158.0\n        ],\n        \"semantic_type\": \"\",\n        \"description\": \"\"\n      }\n    },\n    {\n      \"column\": \"Emisiones CO2 [Ton/a\\u00f1o]\",\n      \"properties\": {\n        \"dtype\": \"number\",\n        \"std\": 292.6040503468186,\n        \"min\": 0.0,\n        \"max\": 855.0,\n        \"num_unique_values\": 5,\n        \"samples\": [\n          40.37341772151899,\n          855.0,\n          134.8230491255331\n        ],\n        \"semantic_type\": \"\",\n        \"description\": \"\"\n      }\n    }\n  ]\n}"
            }
          },
          "metadata": {},
          "execution_count": 93
        }
      ]
    },
    {
      "cell_type": "code",
      "source": [
        "# Eliminar duplicados\n",
        "df_datos.drop_duplicates\n",
        "df_datos.shape"
      ],
      "metadata": {
        "colab": {
          "base_uri": "https://localhost:8080/"
        },
        "id": "C-_jLpJZR2ee",
        "outputId": "19a42a30-9a0d-47be-9ed2-e96300cbfe34"
      },
      "execution_count": null,
      "outputs": [
        {
          "output_type": "execute_result",
          "data": {
            "text/plain": [
              "(158, 13)"
            ]
          },
          "metadata": {},
          "execution_count": 94
        }
      ]
    },
    {
      "cell_type": "markdown",
      "source": [
        "Identificar filas con valores nulos y tratamiento"
      ],
      "metadata": {
        "id": "XR0jst8ZVkuu"
      }
    },
    {
      "cell_type": "code",
      "source": [
        "# Contar la cantidad de filas con valores nulos\n",
        "df_datos.isnull().sum()"
      ],
      "metadata": {
        "colab": {
          "base_uri": "https://localhost:8080/",
          "height": 492
        },
        "id": "E-K0p4VaTzqR",
        "outputId": "357e873a-2ab6-43f7-d270-d180db4e6962"
      },
      "execution_count": null,
      "outputs": [
        {
          "output_type": "execute_result",
          "data": {
            "text/plain": [
              "Proyecto                    0\n",
              "Tipo                        0\n",
              "Capacidad                   0\n",
              "Departamento                0\n",
              "Municipio                   0\n",
              "Código Departamento         0\n",
              "Código Municipio            0\n",
              "Fecha estimada FPO          0\n",
              "Energía [kWh/día]           0\n",
              "Usuarios                    0\n",
              "Inversión estimada [COP]    0\n",
              "Empleos estimados           0\n",
              "Emisiones CO2 [Ton/año]     0\n",
              "dtype: int64"
            ],
            "text/html": [
              "<div>\n",
              "<style scoped>\n",
              "    .dataframe tbody tr th:only-of-type {\n",
              "        vertical-align: middle;\n",
              "    }\n",
              "\n",
              "    .dataframe tbody tr th {\n",
              "        vertical-align: top;\n",
              "    }\n",
              "\n",
              "    .dataframe thead th {\n",
              "        text-align: right;\n",
              "    }\n",
              "</style>\n",
              "<table border=\"1\" class=\"dataframe\">\n",
              "  <thead>\n",
              "    <tr style=\"text-align: right;\">\n",
              "      <th></th>\n",
              "      <th>0</th>\n",
              "    </tr>\n",
              "  </thead>\n",
              "  <tbody>\n",
              "    <tr>\n",
              "      <th>Proyecto</th>\n",
              "      <td>0</td>\n",
              "    </tr>\n",
              "    <tr>\n",
              "      <th>Tipo</th>\n",
              "      <td>0</td>\n",
              "    </tr>\n",
              "    <tr>\n",
              "      <th>Capacidad</th>\n",
              "      <td>0</td>\n",
              "    </tr>\n",
              "    <tr>\n",
              "      <th>Departamento</th>\n",
              "      <td>0</td>\n",
              "    </tr>\n",
              "    <tr>\n",
              "      <th>Municipio</th>\n",
              "      <td>0</td>\n",
              "    </tr>\n",
              "    <tr>\n",
              "      <th>Código Departamento</th>\n",
              "      <td>0</td>\n",
              "    </tr>\n",
              "    <tr>\n",
              "      <th>Código Municipio</th>\n",
              "      <td>0</td>\n",
              "    </tr>\n",
              "    <tr>\n",
              "      <th>Fecha estimada FPO</th>\n",
              "      <td>0</td>\n",
              "    </tr>\n",
              "    <tr>\n",
              "      <th>Energía [kWh/día]</th>\n",
              "      <td>0</td>\n",
              "    </tr>\n",
              "    <tr>\n",
              "      <th>Usuarios</th>\n",
              "      <td>0</td>\n",
              "    </tr>\n",
              "    <tr>\n",
              "      <th>Inversión estimada [COP]</th>\n",
              "      <td>0</td>\n",
              "    </tr>\n",
              "    <tr>\n",
              "      <th>Empleos estimados</th>\n",
              "      <td>0</td>\n",
              "    </tr>\n",
              "    <tr>\n",
              "      <th>Emisiones CO2 [Ton/año]</th>\n",
              "      <td>0</td>\n",
              "    </tr>\n",
              "  </tbody>\n",
              "</table>\n",
              "</div><br><label><b>dtype:</b> int64</label>"
            ]
          },
          "metadata": {},
          "execution_count": 95
        }
      ]
    },
    {
      "cell_type": "markdown",
      "source": [
        "La fila **calories_day** contiene 19 datos nulos. Trataremos, por ahora, con esa columna."
      ],
      "metadata": {
        "id": "40Sky8_MVy_z"
      }
    },
    {
      "cell_type": "code",
      "source": [
        "# Teniendo en cuenta que el tipo de datos de esta columna es \"float64\" (números decimales), procedemos a crear un histograma de frecuencias de esa columna\n",
        "df_datos['Usuarios'].hist()"
      ],
      "metadata": {
        "colab": {
          "base_uri": "https://localhost:8080/",
          "height": 447
        },
        "id": "REB3Sm4ZV72J",
        "outputId": "7403a8d8-81f6-4aff-a7c0-c213517f8105"
      },
      "execution_count": null,
      "outputs": [
        {
          "output_type": "execute_result",
          "data": {
            "text/plain": [
              "<Axes: >"
            ]
          },
          "metadata": {},
          "execution_count": 96
        },
        {
          "output_type": "display_data",
          "data": {
            "text/plain": [
              "<Figure size 640x480 with 1 Axes>"
            ],
            "image/png": "[encoded data removed]"
          },
          "metadata": {}
        }
      ]
    },
    {
      "cell_type": "code",
      "source": [
        "# Usaremos un gráfico de caja-bigote para ver si existen valores outliers\n",
        "df_datos.boxplot(column='Usuarios')"
      ],
      "metadata": {
        "colab": {
          "base_uri": "https://localhost:8080/",
          "height": 447
        },
        "id": "2XceWmKrW-6a",
        "outputId": "7d7de908-c87c-4508-f78a-0e7a561bf5b8"
      },
      "execution_count": null,
      "outputs": [
        {
          "output_type": "execute_result",
          "data": {
            "text/plain": [
              "<Axes: >"
            ]
          },
          "metadata": {},
          "execution_count": 100
        },
        {
          "output_type": "display_data",
          "data": {
            "text/plain": [
              "<Figure size 640x480 with 1 Axes>"
            ],
            "image/png": "[encoded data removed]"
          },
          "metadata": {}
        }
      ]
    },
    {
      "cell_type": "code",
      "source": [
        "# Si tomamos la decisión de imputar los valores no nulos de esa columna con el promedio de los datos, procedemos de la siguiente manera\n",
        "df_datos['Usuarios'].fillna(df_datos['Usuarios'].mean())#, inplace=True)\n",
        "df_datos_nulos = df_datos.isnull().sum()\n",
        "display(df_datos_nulos[df_datos_nulos > 0]) # Muestra TODOS las columnas que poseen datos nulos"
      ],
      "metadata": {
        "colab": {
          "base_uri": "https://localhost:8080/",
          "height": 84
        },
        "id": "r7FSwYh7XlJV",
        "outputId": "717924cc-b0a5-4158-e23c-5fcb9a6dc49f"
      },
      "execution_count": null,
      "outputs": [
        {
          "output_type": "display_data",
          "data": {
            "text/plain": [
              "Series([], dtype: int64)"
            ],
            "text/html": [
              "<div>\n",
              "<style scoped>\n",
              "    .dataframe tbody tr th:only-of-type {\n",
              "        vertical-align: middle;\n",
              "    }\n",
              "\n",
              "    .dataframe tbody tr th {\n",
              "        vertical-align: top;\n",
              "    }\n",
              "\n",
              "    .dataframe thead th {\n",
              "        text-align: right;\n",
              "    }\n",
              "</style>\n",
              "<table border=\"1\" class=\"dataframe\">\n",
              "  <thead>\n",
              "    <tr style=\"text-align: right;\">\n",
              "      <th></th>\n",
              "      <th>0</th>\n",
              "    </tr>\n",
              "  </thead>\n",
              "  <tbody>\n",
              "  </tbody>\n",
              "</table>\n",
              "</div><br><label><b>dtype:</b> int64</label>"
            ]
          },
          "metadata": {}
        }
      ]
    },
    {
      "cell_type": "code",
      "source": [
        "# Identify row where \"GPA\" is not a number\n",
        "display(df_datos[pd.to_numeric(df_datos['GPA'], errors='coerce').isnull()])\n",
        "\n",
        "# Convert to NaN the data in the column \"GPA\" that are not a number\n",
        "df_datos['GPA'] = pd.to_numeric(df_datos['GPA'], errors='coerce')\n",
        "#df_datos.info()\n",
        "\n",
        "# Display the rows in \"GPA\" that are NaN\n",
        "display(df_datos[df_datos['GPA'].isnull()])\n",
        "\n",
        "# Impute the NaN data in the column \"GPA\" with the mean and save into a new dataframe\n",
        "df_datos_media = df_datos['GPA'].fillna(df_datos['GPA'].mean(), inplace=False)\n",
        "df_datos_mediana = df_datos['GPA'].fillna(df_datos['GPA'].median(), inplace=False)\n",
        "df_datos_moda = df_datos['GPA'].fillna(df_datos['GPA'].mode(), inplace=False)\n",
        "#df_datos.info()\n",
        "\n",
        "# Crear histograma de los datos de la columna \"GPA\"\n",
        "fig, axes = plt.subplots(1, 3, figsize=(15, 5))  # 1 fila, 3 columnas, tamaño de la figura\n",
        "fig.suptitle('Histogramas de los datos de la columna \"GPA\" con diferentes imputaciones')\n",
        "df_datos_media.hist(ax = axes[0]) # Histograma imputado con la media\n",
        "axes[0].set_title('Imputación con la media')\n",
        "axes[0].set_xlabel('Valor')\n",
        "axes[0].set_ylabel('Frecuencia')\n",
        "\n",
        "df_datos_mediana.hist(ax = axes[1]) # Histograma imputado con la mediana\n",
        "axes[1].set_title('Imputación con la mediana')\n",
        "axes[1].set_xlabel('Valor')\n",
        "axes[1].set_ylabel('Frecuencia')\n",
        "\n",
        "df_datos_moda.hist(ax = axes[2]) # Histograma imputado con la moda\n",
        "axes[2].set_title('Imputación con la moda')\n",
        "axes[2].set_xlabel('Valor')\n",
        "axes[2].set_ylabel('Frecuencia')\n",
        "\n",
        "plt.show()"
      ],
      "metadata": {
        "colab": {
          "base_uri": "https://localhost:8080/",
          "height": 547
        },
        "id": "gd3_Jcg-PN9Z",
        "outputId": "d13f24af-be6a-42b7-819f-536cfe94ee1a"
      },
      "execution_count": null,
      "outputs": [
        {
          "output_type": "error",
          "ename": "KeyError",
          "evalue": "'GPA'",
          "traceback": [
            "\u001b[0;31m---------------------------------------------------------------------------\u001b[0m",
            "\u001b[0;31mKeyError\u001b[0m                                  Traceback (most recent call last)",
            "\u001b[0;32m/usr/local/lib/python3.12/dist-packages/pandas/core/indexes/base.py\u001b[0m in \u001b[0;36mget_loc\u001b[0;34m(self, key)\u001b[0m\n\u001b[1;32m   3804\u001b[0m         \u001b[0;32mtry\u001b[0m\u001b[0;34m:\u001b[0m\u001b[0;34m\u001b[0m\u001b[0;34m\u001b[0m\u001b[0m\n\u001b[0;32m-> 3805\u001b[0;31m             \u001b[0;32mreturn\u001b[0m \u001b[0mself\u001b[0m\u001b[0;34m.\u001b[0m\u001b[0m_engine\u001b[0m\u001b[0;34m.\u001b[0m\u001b[0mget_loc\u001b[0m\u001b[0;34m(\u001b[0m\u001b[0mcasted_key\u001b[0m\u001b[0;34m)\u001b[0m\u001b[0;34m\u001b[0m\u001b[0;34m\u001b[0m\u001b[0m\n\u001b[0m\u001b[1;32m   3806\u001b[0m         \u001b[0;32mexcept\u001b[0m \u001b[0mKeyError\u001b[0m \u001b[0;32mas\u001b[0m \u001b[0merr\u001b[0m\u001b[0;34m:\u001b[0m\u001b[0;34m\u001b[0m\u001b[0;34m\u001b[0m\u001b[0m\n",
            "\u001b[0;32mindex.pyx\u001b[0m in \u001b[0;36mpandas._libs.index.IndexEngine.get_loc\u001b[0;34m()\u001b[0m\n",
            "\u001b[0;32mindex.pyx\u001b[0m in \u001b[0;36mpandas._libs.index.IndexEngine.get_loc\u001b[0;34m()\u001b[0m\n",
            "\u001b[0;32mpandas/_libs/hashtable_class_helper.pxi\u001b[0m in \u001b[0;36mpandas._libs.hashtable.PyObjectHashTable.get_item\u001b[0;34m()\u001b[0m\n",
            "\u001b[0;32mpandas/_libs/hashtable_class_helper.pxi\u001b[0m in \u001b[0;36mpandas._libs.hashtable.PyObjectHashTable.get_item\u001b[0;34m()\u001b[0m\n",
            "\u001b[0;31mKeyError\u001b[0m: 'GPA'",
            "\nThe above exception was the direct cause of the following exception:\n",
            "\u001b[0;31mKeyError\u001b[0m                                  Traceback (most recent call last)",
            "\u001b[0;32m/tmp/ipython-input-863055114.py\u001b[0m in \u001b[0;36m<cell line: 0>\u001b[0;34m()\u001b[0m\n\u001b[1;32m      1\u001b[0m \u001b[0;31m# Identify row where \"GPA\" is not a number\u001b[0m\u001b[0;34m\u001b[0m\u001b[0;34m\u001b[0m\u001b[0m\n\u001b[0;32m----> 2\u001b[0;31m \u001b[0mdisplay\u001b[0m\u001b[0;34m(\u001b[0m\u001b[0mdf_datos\u001b[0m\u001b[0;34m[\u001b[0m\u001b[0mpd\u001b[0m\u001b[0;34m.\u001b[0m\u001b[0mto_numeric\u001b[0m\u001b[0;34m(\u001b[0m\u001b[0mdf_datos\u001b[0m\u001b[0;34m[\u001b[0m\u001b[0;34m'GPA'\u001b[0m\u001b[0;34m]\u001b[0m\u001b[0;34m,\u001b[0m \u001b[0merrors\u001b[0m\u001b[0;34m=\u001b[0m\u001b[0;34m'coerce'\u001b[0m\u001b[0;34m)\u001b[0m\u001b[0;34m.\u001b[0m\u001b[0misnull\u001b[0m\u001b[0;34m(\u001b[0m\u001b[0;34m)\u001b[0m\u001b[0;34m]\u001b[0m\u001b[0;34m)\u001b[0m\u001b[0;34m\u001b[0m\u001b[0;34m\u001b[0m\u001b[0m\n\u001b[0m\u001b[1;32m      3\u001b[0m \u001b[0;34m\u001b[0m\u001b[0m\n\u001b[1;32m      4\u001b[0m \u001b[0;31m# Convert to NaN the data in the column \"GPA\" that are not a number\u001b[0m\u001b[0;34m\u001b[0m\u001b[0;34m\u001b[0m\u001b[0m\n\u001b[1;32m      5\u001b[0m \u001b[0mdf_datos\u001b[0m\u001b[0;34m[\u001b[0m\u001b[0;34m'GPA'\u001b[0m\u001b[0;34m]\u001b[0m \u001b[0;34m=\u001b[0m \u001b[0mpd\u001b[0m\u001b[0;34m.\u001b[0m\u001b[0mto_numeric\u001b[0m\u001b[0;34m(\u001b[0m\u001b[0mdf_datos\u001b[0m\u001b[0;34m[\u001b[0m\u001b[0;34m'GPA'\u001b[0m\u001b[0;34m]\u001b[0m\u001b[0;34m,\u001b[0m \u001b[0merrors\u001b[0m\u001b[0;34m=\u001b[0m\u001b[0;34m'coerce'\u001b[0m\u001b[0;34m)\u001b[0m\u001b[0;34m\u001b[0m\u001b[0;34m\u001b[0m\u001b[0m\n",
            "\u001b[0;32m/usr/local/lib/python3.12/dist-packages/pandas/core/frame.py\u001b[0m in \u001b[0;36m__getitem__\u001b[0;34m(self, key)\u001b[0m\n\u001b[1;32m   4100\u001b[0m             \u001b[0;32mif\u001b[0m \u001b[0mself\u001b[0m\u001b[0;34m.\u001b[0m\u001b[0mcolumns\u001b[0m\u001b[0;34m.\u001b[0m\u001b[0mnlevels\u001b[0m \u001b[0;34m>\u001b[0m \u001b[0;36m1\u001b[0m\u001b[0;34m:\u001b[0m\u001b[0;34m\u001b[0m\u001b[0;34m\u001b[0m\u001b[0m\n\u001b[1;32m   4101\u001b[0m                 \u001b[0;32mreturn\u001b[0m \u001b[0mself\u001b[0m\u001b[0;34m.\u001b[0m\u001b[0m_getitem_multilevel\u001b[0m\u001b[0;34m(\u001b[0m\u001b[0mkey\u001b[0m\u001b[0;34m)\u001b[0m\u001b[0;34m\u001b[0m\u001b[0;34m\u001b[0m\u001b[0m\n\u001b[0;32m-> 4102\u001b[0;31m             \u001b[0mindexer\u001b[0m \u001b[0;34m=\u001b[0m \u001b[0mself\u001b[0m\u001b[0;34m.\u001b[0m\u001b[0mcolumns\u001b[0m\u001b[0;34m.\u001b[0m\u001b[0mget_loc\u001b[0m\u001b[0;34m(\u001b[0m\u001b[0mkey\u001b[0m\u001b[0;34m)\u001b[0m\u001b[0;34m\u001b[0m\u001b[0;34m\u001b[0m\u001b[0m\n\u001b[0m\u001b[1;32m   4103\u001b[0m             \u001b[0;32mif\u001b[0m \u001b[0mis_integer\u001b[0m\u001b[0;34m(\u001b[0m\u001b[0mindexer\u001b[0m\u001b[0;34m)\u001b[0m\u001b[0;34m:\u001b[0m\u001b[0;34m\u001b[0m\u001b[0;34m\u001b[0m\u001b[0m\n\u001b[1;32m   4104\u001b[0m                 \u001b[0mindexer\u001b[0m \u001b[0;34m=\u001b[0m \u001b[0;34m[\u001b[0m\u001b[0mindexer\u001b[0m\u001b[0;34m]\u001b[0m\u001b[0;34m\u001b[0m\u001b[0;34m\u001b[0m\u001b[0m\n",
            "\u001b[0;32m/usr/local/lib/python3.12/dist-packages/pandas/core/indexes/base.py\u001b[0m in \u001b[0;36mget_loc\u001b[0;34m(self, key)\u001b[0m\n\u001b[1;32m   3810\u001b[0m             ):\n\u001b[1;32m   3811\u001b[0m                 \u001b[0;32mraise\u001b[0m \u001b[0mInvalidIndexError\u001b[0m\u001b[0;34m(\u001b[0m\u001b[0mkey\u001b[0m\u001b[0;34m)\u001b[0m\u001b[0;34m\u001b[0m\u001b[0;34m\u001b[0m\u001b[0m\n\u001b[0;32m-> 3812\u001b[0;31m             \u001b[0;32mraise\u001b[0m \u001b[0mKeyError\u001b[0m\u001b[0;34m(\u001b[0m\u001b[0mkey\u001b[0m\u001b[0;34m)\u001b[0m \u001b[0;32mfrom\u001b[0m \u001b[0merr\u001b[0m\u001b[0;34m\u001b[0m\u001b[0;34m\u001b[0m\u001b[0m\n\u001b[0m\u001b[1;32m   3813\u001b[0m         \u001b[0;32mexcept\u001b[0m \u001b[0mTypeError\u001b[0m\u001b[0;34m:\u001b[0m\u001b[0;34m\u001b[0m\u001b[0;34m\u001b[0m\u001b[0m\n\u001b[1;32m   3814\u001b[0m             \u001b[0;31m# If we have a listlike key, _check_indexing_error will raise\u001b[0m\u001b[0;34m\u001b[0m\u001b[0;34m\u001b[0m\u001b[0m\n",
            "\u001b[0;31mKeyError\u001b[0m: 'GPA'"
          ]
        }
      ]
    },
    {
      "cell_type": "markdown",
      "source": [
        "Los tres histogramas muestran cambios poco significativos en la distribución de frecuencias de los valores de la columna \"GPA\". Ante esta situación, se puede optar por cualquiera de las tres imputaciones.\n",
        "En este caso, optaremos por imputar con el promedio de los datos."
      ],
      "metadata": {
        "id": "CU2OBwwbMP1L"
      }
    },
    {
      "cell_type": "markdown",
      "source": [
        "# Agosto 21 de 2025"
      ],
      "metadata": {
        "id": "5bDiyC4vZdsW"
      }
    },
    {
      "cell_type": "code",
      "source": [
        "#Imput the NaN data ofthe column \"GPA\" with the mean\n",
        "df_datos['GPA'].fillna(df_datos['GPA'].mean())#, inplace=True)\n",
        "\n",
        "# Crear un boxplot con los datos de la coluna \"GPA\"\n",
        "df_datos.boxplot(column='GPA')"
      ],
      "metadata": {
        "id": "4jNiCl0xS89y"
      },
      "execution_count": null,
      "outputs": []
    },
    {
      "cell_type": "markdown",
      "source": [
        "El gráfico de caja-bigote muestra tres valores atípicos en los datos de la columna \"GPA\"."
      ],
      "metadata": {
        "id": "-cUgPp76VUYY"
      }
    },
    {
      "cell_type": "markdown",
      "source": [
        "Podemos hacer un análisis similar con los datos de la columna Weight para identificar aquellos valores que no son numéricos"
      ],
      "metadata": {
        "id": "7BlGpJQUXhcM"
      }
    },
    {
      "cell_type": "code",
      "source": [
        "# Identify row where \"weight\" is not a number\n",
        "display(df_datos[pd.to_numeric(df_datos['weight'], errors='coerce').isnull()])\n",
        "\n",
        "# Convert to NaN the data in the column \"WEIGTH\" that are not a number\n",
        "df_datos['weight'] = pd.to_numeric(df_datos['weight'], errors='coerce')\n",
        "#df_datos.info()\n",
        "\n",
        "# Display the rows in \"WEIGTH\" that are NaN\n",
        "display(df_datos[df_datos['weight'].isnull()])\n",
        "\n",
        "# Impute the NaN data in the column \"WEIGTH\" with the mean and save into a new dataframe\n",
        "df_datos_media = df_datos['weight'].fillna(df_datos['weight'].mean(), inplace=False)\n",
        "df_datos_mediana = df_datos['weight'].fillna(df_datos['weight'].median(), inplace=False)\n",
        "df_datos_moda = df_datos['weight'].fillna(df_datos['weight'].mode(), inplace=False)\n",
        "#df_datos.info()\n",
        "\n",
        "# Crear histograma de los datos de la columna \"WEIGTH\"\n",
        "fig, axes = plt.subplots(1, 3, figsize=(15, 5))  # 1 fila, 3 columnas, tamaño de la figura\n",
        "fig.suptitle('Histogramas de los datos de la columna \"weight\" con diferentes imputaciones')\n",
        "df_datos_media.hist(ax = axes[0]) # Histograma imputado con la media\n",
        "axes[0].set_title('Imputación con la media')\n",
        "axes[0].set_xlabel('Valor')\n",
        "axes[0].set_ylabel('Frecuencia')\n",
        "\n",
        "df_datos_mediana.hist(ax = axes[1]) # Histograma imputado con la mediana\n",
        "axes[1].set_title('Imputación con la mediana')\n",
        "axes[1].set_xlabel('Valor')\n",
        "axes[1].set_ylabel('Frecuencia')\n",
        "\n",
        "df_datos_moda.hist(ax = axes[2]) # Histograma imputado con la moda\n",
        "axes[2].set_title('Imputación con la moda')\n",
        "axes[2].set_xlabel('Valor')\n",
        "axes[2].set_ylabel('Frecuencia')\n",
        "\n",
        "plt.show()"
      ],
      "metadata": {
        "id": "71Csb6stUtPi"
      },
      "execution_count": null,
      "outputs": []
    },
    {
      "cell_type": "code",
      "source": [
        "from google.colab import drive\n",
        "drive.mount('/content/drive')"
      ],
      "metadata": {
        "id": "GZvQjqxMAT__"
      },
      "execution_count": null,
      "outputs": []
    },
    {
      "cell_type": "markdown",
      "source": [
        "# Sección nueva"
      ],
      "metadata": {
        "id": "R2QxLDofVWFY"
      }
    },
    {
      "cell_type": "markdown",
      "source": [
        "En el gráfico se observa que los histogramas en donde se hizo imputación con la media y la mediana son muy similares. El gráfico donde se hizo imputación con la moda y muestra diferencias en la distribución de los datos.<br>\n",
        "Se procede a hacer la imputación con la media."
      ],
      "metadata": {
        "id": "bn9abGG4YXbT"
      }
    },
    {
      "cell_type": "code",
      "source": [
        "#Imput the NaN data ofthe column \"weight\" with the mean\n",
        "df_datos['weight'].fillna(df_datos['weight'].mean())#, inplace=True)\n",
        "\n",
        "# Crear un boxplot con los datos de la coluna \"weight\"\n",
        "df_datos.boxplot(column='weight')"
      ],
      "metadata": {
        "id": "5GX3xK1lYmJL"
      },
      "execution_count": null,
      "outputs": []
    },
    {
      "cell_type": "markdown",
      "source": [
        "## Análisis bivariado\n",
        "\n",
        "El **análisis bivariado** es un análisis de **correlación** entre dos variables. Esto significa la evaluación del comportamiento de una variable con respecto al comportamiento de la otra.<br>\n",
        "Una manera de previsualizar si existe o no correlación entre dos variables es usar un gráfico de dispersión."
      ],
      "metadata": {
        "id": "3SllfDwdZWQ4"
      }
    },
    {
      "cell_type": "code",
      "source": [
        "# Create a scatter plot with de data in the columns \"GPA\" and \"weight\"\n",
        "df_datos.plot.scatter(x='GPA', y='weight')"
      ],
      "metadata": {
        "id": "ogafORH2amFt"
      },
      "execution_count": null,
      "outputs": []
    },
    {
      "cell_type": "markdown",
      "source": [
        "El gráfico de dispersión no muestra una correlación entre las variables estudiadas y sí muesta la existencia de datos atípicos: los menores a 2.75 para la variable GPA y los superiores a 200 en la variable weight.<br>\n",
        "Se procede a eliminarlos de la muestra"
      ],
      "metadata": {
        "id": "YQ66GbJCbDcf"
      }
    },
    {
      "cell_type": "code",
      "source": [
        "# Eliminate the outliers data in the columns \"GPA\"\n",
        "df_datos = df_datos[(df_datos['GPA'] >= 2.75) & (df_datos['GPA'] <= 4.0)]\n",
        "\n",
        "# Eliminate the outliers data in the columns \"GPA\"\n",
        "df_datos = df_datos[(df_datos['weight'] >= 50) & (df_datos['weight'] <= 200)]"
      ],
      "metadata": {
        "id": "OD81-ugrbhw9"
      },
      "execution_count": null,
      "outputs": []
    },
    {
      "cell_type": "markdown",
      "source": [
        "Creamos un nuevo gráfico de dispersión con los datos depurados"
      ],
      "metadata": {
        "id": "QAJyHmAnb8nn"
      }
    },
    {
      "cell_type": "code",
      "source": [
        "# Create a scatter plot with de data in the columns \"GPA\" and \"weight\"\n",
        "df_datos.plot.scatter(x='GPA', y='weight')"
      ],
      "metadata": {
        "id": "Lz5KGEj0b_3C"
      },
      "execution_count": null,
      "outputs": []
    },
    {
      "cell_type": "markdown",
      "source": [
        "## Análisis multivariado\n",
        "Es un análisis análogo al bivariado: explorar la correlación entre pares de variables usando todas al mismo tiempo"
      ],
      "metadata": {
        "id": "YZDhbWGnfe0V"
      }
    },
    {
      "cell_type": "code",
      "source": [
        "#Create a new dataframe with only numeric columns of the original dataframe\n",
        "df_datos_num = df_datos.select_dtypes(include=['int64', 'float64'])\n",
        "df_datos_num.shape\n",
        "df_datos_num\n",
        "\n",
        "#Create a correlation matrix with the data of the dataframe\n",
        "df_corr = df_datos_num.corr()\n",
        "df_corr\n",
        "\n",
        "\n",
        "# Create a heatmap with the correlation matrix\n",
        "#sns.heatmap(df_corr, annot=True)"
      ],
      "metadata": {
        "id": "6Sid3eo-fot2"
      },
      "execution_count": null,
      "outputs": []
    }
  ]
}